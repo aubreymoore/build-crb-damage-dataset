{
 "cells": [
  {
   "cell_type": "code",
   "execution_count": 1,
   "metadata": {},
   "outputs": [],
   "source": [
    "import shutil\n",
    "from icecream import ic\n",
    "import glob\n",
    "import pandas as pd"
   ]
  },
  {
   "cell_type": "code",
   "execution_count": 2,
   "metadata": {},
   "outputs": [
    {
     "name": "stderr",
     "output_type": "stream",
     "text": [
      "ic| 'copying dataset'\n"
     ]
    }
   ],
   "source": [
    "ORIGINAL_DATASET_PATH='/media/aubrey/Extreme SSD/dataset2'\n",
    "NEW_DATASET_PATH='/home/aubrey/dataset3'\n",
    "\n",
    "# Delete NEW_DATASET_PATH to start from scratch\n",
    "\n",
    "ic('copying dataset')\n",
    "try:\n",
    "    shutil.copytree(ORIGINAL_DATASET_PATH, NEW_DATASET_PATH)\n",
    "except:\n",
    "    pass\n"
   ]
  },
  {
   "cell_type": "code",
   "execution_count": 3,
   "metadata": {},
   "outputs": [
    {
     "name": "stdout",
     "output_type": "stream",
     "text": [
      "186M\t/home/aubrey/dataset3/labels/train\n",
      "24M\t/home/aubrey/dataset3/labels/val\n",
      "23M\t/home/aubrey/dataset3/labels/test\n",
      "232M\t/home/aubrey/dataset3/labels\n",
      "6.4G\t/home/aubrey/dataset3/images/train\n",
      "803M\t/home/aubrey/dataset3/images/val\n",
      "806M\t/home/aubrey/dataset3/images/test\n",
      "7.9G\t/home/aubrey/dataset3/images\n",
      "8.2G\t/home/aubrey/dataset3\n"
     ]
    }
   ],
   "source": [
    "!du -h {NEW_DATASET_PATH}"
   ]
  },
  {
   "cell_type": "code",
   "execution_count": 4,
   "metadata": {},
   "outputs": [
    {
     "name": "stderr",
     "output_type": "stream",
     "text": [
      "ic| 'getting list of annotation files (*.txt)'\n",
      "ic| len(annotation_file_list): 70888\n",
      "ic| 'removing bounding boxes'\n",
      "ic| i: 0, total_bad_bbs: 0\n",
      "ic| i: 10000, total_bad_bbs: 0\n",
      "ic| i: 20000, total_bad_bbs: 0\n",
      "ic| i: 30000, total_bad_bbs: 0\n",
      "ic| i: 40000, total_bad_bbs: 0\n",
      "ic| i: 50000, total_bad_bbs: 0\n",
      "ic| i: 60000, total_bad_bbs: 0\n",
      "ic| i: 70000, total_bad_bbs: 0\n",
      "ic| i: 70887, total_bad_bbs: 0\n"
     ]
    },
    {
     "data": {
      "text/plain": [
       "(70887, 0)"
      ]
     },
     "execution_count": 4,
     "metadata": {},
     "output_type": "execute_result"
    }
   ],
   "source": [
    "\n",
    "ic('getting list of annotation files (*.txt)')\n",
    "search_string = f'{NEW_DATASET_PATH}/labels/**/*.txt'\n",
    "annotation_file_list = glob.glob(search_string, recursive=True)\n",
    "ic(len(annotation_file_list))\n",
    "\n",
    "ic('removing bounding boxes')\n",
    "total_bad_bbs = 0\n",
    "for i, annotation_file in enumerate(annotation_file_list):\n",
    "    # read file\n",
    "    df = pd.read_csv(annotation_file, header=None, sep=' ', names=['cls','xc','yc','width','height'])\n",
    "    \n",
    "    # calculate left, right and top coordinates for bounding boxes\n",
    "    df['left'] = df.xc - (df.width / 2)\n",
    "    df['right'] = df.xc + (df.width / 2)\n",
    "    df['top'] = df.yc - (df.height / 2)\n",
    "    \n",
    "    # create a new df containing bounding boxes which do net touch left, right or top of image\n",
    "    df1 = df[(df.left > 0.001) & (df.right < 0.999) & (df.top > 0.001)]\n",
    "\n",
    "    # if bounding boxes touching left, right or top edges of image were detected\n",
    "    # update the annotation file\n",
    "    bad_bbs = df.shape[0] - df1.shape[0]\n",
    "    if bad_bbs > 0:\n",
    "        total_bad_bbs += bad_bbs\n",
    "        df1.to_csv(annotation_file, \n",
    "                   sep=' ', index=False, header=False, columns=['cls','xc','yc','width','height']) \n",
    "    if i % 10000 == 0:\n",
    "        ic(i, total_bad_bbs)\n",
    "       \n",
    "ic(i, total_bad_bbs)"
   ]
  },
  {
   "cell_type": "code",
   "execution_count": 5,
   "metadata": {},
   "outputs": [
    {
     "name": "stdout",
     "output_type": "stream",
     "text": [
      "186M\t/home/aubrey/dataset3/labels/train\n",
      "24M\t/home/aubrey/dataset3/labels/val\n",
      "23M\t/home/aubrey/dataset3/labels/test\n",
      "232M\t/home/aubrey/dataset3/labels\n",
      "6.4G\t/home/aubrey/dataset3/images/train\n",
      "803M\t/home/aubrey/dataset3/images/val\n",
      "806M\t/home/aubrey/dataset3/images/test\n",
      "7.9G\t/home/aubrey/dataset3/images\n",
      "8.2G\t/home/aubrey/dataset3\n"
     ]
    }
   ],
   "source": [
    "!du -h {NEW_DATASET_PATH}"
   ]
  }
 ],
 "metadata": {
  "kernelspec": {
   "display_name": "env",
   "language": "python",
   "name": "env"
  },
  "language_info": {
   "codemirror_mode": {
    "name": "ipython",
    "version": 3
   },
   "file_extension": ".py",
   "mimetype": "text/x-python",
   "name": "python",
   "nbconvert_exporter": "python",
   "pygments_lexer": "ipython3",
   "version": "3.8.10"
  }
 },
 "nbformat": 4,
 "nbformat_minor": 2
}
